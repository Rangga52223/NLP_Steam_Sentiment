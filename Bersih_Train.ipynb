{
 "cells": [
  {
   "cell_type": "code",
   "execution_count": 1,
   "metadata": {},
   "outputs": [],
   "source": [
    "import pandas as pd\n",
    "import numpy as np\n",
    "import matplotlib as plt\n",
    "import seaborn as sns\n"
   ]
  },
  {
   "cell_type": "code",
   "execution_count": 8,
   "metadata": {},
   "outputs": [],
   "source": [
    "df = pd.read_csv(r'train.csv')"
   ]
  },
  {
   "cell_type": "code",
   "execution_count": 9,
   "metadata": {},
   "outputs": [
    {
     "data": {
      "text/plain": [
       "Index(['Unnamed: 0', 'review', 'recommendation', 'game_name'], dtype='object')"
      ]
     },
     "execution_count": 9,
     "metadata": {},
     "output_type": "execute_result"
    }
   ],
   "source": [
    "df.columns"
   ]
  },
  {
   "cell_type": "code",
   "execution_count": 10,
   "metadata": {},
   "outputs": [
    {
     "name": "stdout",
     "output_type": "stream",
     "text": [
      "['Not Recommended' 'Recommended']\n"
     ]
    }
   ],
   "source": [
    "unique_values = df['recommendation'].unique()\n",
    "print(unique_values)"
   ]
  },
  {
   "cell_type": "code",
   "execution_count": 11,
   "metadata": {},
   "outputs": [],
   "source": [
    "from sklearn.preprocessing import LabelEncoder\n",
    "label_encoder = LabelEncoder()\n",
    "df['recommendation'] = label_encoder.fit_transform(df['recommendation'])  "
   ]
  },
  {
   "cell_type": "code",
   "execution_count": 12,
   "metadata": {},
   "outputs": [
    {
     "name": "stdout",
     "output_type": "stream",
     "text": [
      "jumlah 0 = 9311\n",
      "jumlah 1 = 40668\n"
     ]
    }
   ],
   "source": [
    "count_class_0 = len(df[df['recommendation'] == 0])\n",
    "count_class_1 = len(df[df['recommendation'] == 1])\n",
    "print(f'jumlah 0 = {count_class_0}')\n",
    "print(f'jumlah 1 = {count_class_1}')"
   ]
  },
  {
   "cell_type": "code",
   "execution_count": 14,
   "metadata": {},
   "outputs": [],
   "source": [
    "class_0 = df[df['recommendation'] == 0]\n",
    "class_1 = df[df['recommendation'] == 1]"
   ]
  },
  {
   "cell_type": "code",
   "execution_count": 19,
   "metadata": {},
   "outputs": [],
   "source": [
    "class_1_under = class_1.sample(count_class_0)\n",
    "count_class_1_under = len(class_1_under)"
   ]
  },
  {
   "cell_type": "code",
   "execution_count": 20,
   "metadata": {},
   "outputs": [
    {
     "name": "stdout",
     "output_type": "stream",
     "text": [
      "jumlah 0 = 9311\n",
      "jumlah 1 under = 9311\n"
     ]
    }
   ],
   "source": [
    "print(f'jumlah 0 = {count_class_0}')\n",
    "print(f'jumlah 1 under = {count_class_1_under}')"
   ]
  },
  {
   "cell_type": "code",
   "execution_count": 21,
   "metadata": {},
   "outputs": [],
   "source": [
    "data_undersampled = pd.concat([class_1_under, class_0], axis=0)"
   ]
  },
  {
   "cell_type": "code",
   "execution_count": 22,
   "metadata": {},
   "outputs": [],
   "source": [
    "data_undersampled = data_undersampled.sample(frac=1).reset_index(drop=True)"
   ]
  },
  {
   "cell_type": "code",
   "execution_count": 25,
   "metadata": {},
   "outputs": [
    {
     "data": {
      "text/html": [
       "<div>\n",
       "<style scoped>\n",
       "    .dataframe tbody tr th:only-of-type {\n",
       "        vertical-align: middle;\n",
       "    }\n",
       "\n",
       "    .dataframe tbody tr th {\n",
       "        vertical-align: top;\n",
       "    }\n",
       "\n",
       "    .dataframe thead th {\n",
       "        text-align: right;\n",
       "    }\n",
       "</style>\n",
       "<table border=\"1\" class=\"dataframe\">\n",
       "  <thead>\n",
       "    <tr style=\"text-align: right;\">\n",
       "      <th></th>\n",
       "      <th>Unnamed: 0</th>\n",
       "      <th>review</th>\n",
       "      <th>recommendation</th>\n",
       "      <th>game_name</th>\n",
       "    </tr>\n",
       "  </thead>\n",
       "  <tbody>\n",
       "    <tr>\n",
       "      <th>0</th>\n",
       "      <td>739468</td>\n",
       "      <td>2023 Now I have played about 4 hours of CoH3, ...</td>\n",
       "      <td>1</td>\n",
       "      <td>Company of Heroes 3</td>\n",
       "    </tr>\n",
       "    <tr>\n",
       "      <th>1</th>\n",
       "      <td>658876</td>\n",
       "      <td>2021 Early Access Review Extremely addicting. ...</td>\n",
       "      <td>1</td>\n",
       "      <td>Dyson Sphere Program</td>\n",
       "    </tr>\n",
       "    <tr>\n",
       "      <th>2</th>\n",
       "      <td>318142</td>\n",
       "      <td>If you have the specific brand of mental illne...</td>\n",
       "      <td>1</td>\n",
       "      <td>Crime Scene Cleaner</td>\n",
       "    </tr>\n",
       "    <tr>\n",
       "      <th>3</th>\n",
       "      <td>266743</td>\n",
       "      <td>Early Access Review ark 2 better be this good</td>\n",
       "      <td>1</td>\n",
       "      <td>Palworld</td>\n",
       "    </tr>\n",
       "    <tr>\n",
       "      <th>4</th>\n",
       "      <td>293414</td>\n",
       "      <td>The Game is Dead, EA Killed it, nobody else is...</td>\n",
       "      <td>0</td>\n",
       "      <td>STAR WARS™ Battlefront™ II</td>\n",
       "    </tr>\n",
       "  </tbody>\n",
       "</table>\n",
       "</div>"
      ],
      "text/plain": [
       "   Unnamed: 0                                             review  \\\n",
       "0      739468  2023 Now I have played about 4 hours of CoH3, ...   \n",
       "1      658876  2021 Early Access Review Extremely addicting. ...   \n",
       "2      318142  If you have the specific brand of mental illne...   \n",
       "3      266743      Early Access Review ark 2 better be this good   \n",
       "4      293414  The Game is Dead, EA Killed it, nobody else is...   \n",
       "\n",
       "   recommendation                   game_name  \n",
       "0               1         Company of Heroes 3  \n",
       "1               1        Dyson Sphere Program  \n",
       "2               1         Crime Scene Cleaner  \n",
       "3               1                    Palworld  \n",
       "4               0  STAR WARS™ Battlefront™ II  "
      ]
     },
     "execution_count": 25,
     "metadata": {},
     "output_type": "execute_result"
    }
   ],
   "source": [
    "data_undersampled.head()"
   ]
  },
  {
   "cell_type": "code",
   "execution_count": 24,
   "metadata": {},
   "outputs": [],
   "source": [
    "data_undersampled.to_csv('train_rev.csv')"
   ]
  }
 ],
 "metadata": {
  "kernelspec": {
   "display_name": "bakso2",
   "language": "python",
   "name": "python3"
  },
  "language_info": {
   "codemirror_mode": {
    "name": "ipython",
    "version": 3
   },
   "file_extension": ".py",
   "mimetype": "text/x-python",
   "name": "python",
   "nbconvert_exporter": "python",
   "pygments_lexer": "ipython3",
   "version": "3.12.2"
  }
 },
 "nbformat": 4,
 "nbformat_minor": 2
}
